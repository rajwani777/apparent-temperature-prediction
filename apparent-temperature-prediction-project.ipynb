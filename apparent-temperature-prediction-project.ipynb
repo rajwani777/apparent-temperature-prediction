{
 "cells": [
  {
   "cell_type": "code",
   "execution_count": 1,
   "id": "b5b1b3b8",
   "metadata": {
    "execution": {
     "iopub.execute_input": "2022-06-04T06:43:04.110473Z",
     "iopub.status.busy": "2022-06-04T06:43:04.109386Z",
     "iopub.status.idle": "2022-06-04T06:43:05.270191Z",
     "shell.execute_reply": "2022-06-04T06:43:05.269361Z"
    },
    "papermill": {
     "duration": 1.176996,
     "end_time": "2022-06-04T06:43:05.272844",
     "exception": false,
     "start_time": "2022-06-04T06:43:04.095848",
     "status": "completed"
    },
    "tags": []
   },
   "outputs": [],
   "source": [
    "import pandas as pd\n",
    "import numpy as np\n",
    "import matplotlib.pyplot as plt\n",
    "import seaborn as sns\n",
    "import warnings \n",
    "import missingno as ms\n",
    "warnings.simplefilter('ignore')"
   ]
  },
  {
   "cell_type": "code",
   "execution_count": 2,
   "id": "33054703",
   "metadata": {
    "execution": {
     "iopub.execute_input": "2022-06-04T06:43:05.296717Z",
     "iopub.status.busy": "2022-06-04T06:43:05.296228Z",
     "iopub.status.idle": "2022-06-04T06:43:05.364438Z",
     "shell.execute_reply": "2022-06-04T06:43:05.363323Z"
    },
    "papermill": {
     "duration": 0.08207,
     "end_time": "2022-06-04T06:43:05.366760",
     "exception": false,
     "start_time": "2022-06-04T06:43:05.284690",
     "status": "completed"
    },
    "tags": []
   },
   "outputs": [
    {
     "data": {
      "text/html": [
       "<div>\n",
       "<style scoped>\n",
       "    .dataframe tbody tr th:only-of-type {\n",
       "        vertical-align: middle;\n",
       "    }\n",
       "\n",
       "    .dataframe tbody tr th {\n",
       "        vertical-align: top;\n",
       "    }\n",
       "\n",
       "    .dataframe thead th {\n",
       "        text-align: right;\n",
       "    }\n",
       "</style>\n",
       "<table border=\"1\" class=\"dataframe\">\n",
       "  <thead>\n",
       "    <tr style=\"text-align: right;\">\n",
       "      <th></th>\n",
       "      <th>Formatted Date</th>\n",
       "      <th>Summary</th>\n",
       "      <th>Precip Type</th>\n",
       "      <th>Temperature (C)</th>\n",
       "      <th>Apparent Temperature (C)</th>\n",
       "      <th>Humidity</th>\n",
       "      <th>Wind Speed (km/h)</th>\n",
       "      <th>Wind Bearing (degrees)</th>\n",
       "      <th>Visibility (km)</th>\n",
       "      <th>Loud Cover</th>\n",
       "      <th>Pressure (millibars)</th>\n",
       "      <th>Daily Summary</th>\n",
       "    </tr>\n",
       "  </thead>\n",
       "  <tbody>\n",
       "    <tr>\n",
       "      <th>0</th>\n",
       "      <td>2006-04-01 00:00:00.000 +0200</td>\n",
       "      <td>Partly Cloudy</td>\n",
       "      <td>rain</td>\n",
       "      <td>9.472222</td>\n",
       "      <td>7.388889</td>\n",
       "      <td>0.89</td>\n",
       "      <td>14.1197</td>\n",
       "      <td>251</td>\n",
       "      <td>15.8263</td>\n",
       "      <td>0</td>\n",
       "      <td>1015.13</td>\n",
       "      <td>Partly cloudy throughout the day.</td>\n",
       "    </tr>\n",
       "    <tr>\n",
       "      <th>1</th>\n",
       "      <td>2006-04-01 01:00:00.000 +0200</td>\n",
       "      <td>Partly Cloudy</td>\n",
       "      <td>rain</td>\n",
       "      <td>9.355556</td>\n",
       "      <td>7.227778</td>\n",
       "      <td>0.86</td>\n",
       "      <td>14.2646</td>\n",
       "      <td>259</td>\n",
       "      <td>15.8263</td>\n",
       "      <td>0</td>\n",
       "      <td>1015.63</td>\n",
       "      <td>Partly cloudy throughout the day.</td>\n",
       "    </tr>\n",
       "    <tr>\n",
       "      <th>2</th>\n",
       "      <td>2006-04-01 02:00:00.000 +0200</td>\n",
       "      <td>Mostly Cloudy</td>\n",
       "      <td>rain</td>\n",
       "      <td>9.377778</td>\n",
       "      <td>9.377778</td>\n",
       "      <td>0.89</td>\n",
       "      <td>3.9284</td>\n",
       "      <td>204</td>\n",
       "      <td>14.9569</td>\n",
       "      <td>0</td>\n",
       "      <td>1015.94</td>\n",
       "      <td>Partly cloudy throughout the day.</td>\n",
       "    </tr>\n",
       "    <tr>\n",
       "      <th>3</th>\n",
       "      <td>2006-04-01 03:00:00.000 +0200</td>\n",
       "      <td>Partly Cloudy</td>\n",
       "      <td>rain</td>\n",
       "      <td>8.288889</td>\n",
       "      <td>5.944444</td>\n",
       "      <td>0.83</td>\n",
       "      <td>14.1036</td>\n",
       "      <td>269</td>\n",
       "      <td>15.8263</td>\n",
       "      <td>0</td>\n",
       "      <td>1016.41</td>\n",
       "      <td>Partly cloudy throughout the day.</td>\n",
       "    </tr>\n",
       "    <tr>\n",
       "      <th>4</th>\n",
       "      <td>2006-04-01 04:00:00.000 +0200</td>\n",
       "      <td>Mostly Cloudy</td>\n",
       "      <td>rain</td>\n",
       "      <td>8.755556</td>\n",
       "      <td>6.977778</td>\n",
       "      <td>0.83</td>\n",
       "      <td>11.0446</td>\n",
       "      <td>259</td>\n",
       "      <td>15.8263</td>\n",
       "      <td>0</td>\n",
       "      <td>1016.51</td>\n",
       "      <td>Partly cloudy throughout the day.</td>\n",
       "    </tr>\n",
       "  </tbody>\n",
       "</table>\n",
       "</div>"
      ],
      "text/plain": [
       "                  Formatted Date        Summary Precip Type  Temperature (C)  \\\n",
       "0  2006-04-01 00:00:00.000 +0200  Partly Cloudy        rain         9.472222   \n",
       "1  2006-04-01 01:00:00.000 +0200  Partly Cloudy        rain         9.355556   \n",
       "2  2006-04-01 02:00:00.000 +0200  Mostly Cloudy        rain         9.377778   \n",
       "3  2006-04-01 03:00:00.000 +0200  Partly Cloudy        rain         8.288889   \n",
       "4  2006-04-01 04:00:00.000 +0200  Mostly Cloudy        rain         8.755556   \n",
       "\n",
       "   Apparent Temperature (C)  Humidity  Wind Speed (km/h)  \\\n",
       "0                  7.388889      0.89            14.1197   \n",
       "1                  7.227778      0.86            14.2646   \n",
       "2                  9.377778      0.89             3.9284   \n",
       "3                  5.944444      0.83            14.1036   \n",
       "4                  6.977778      0.83            11.0446   \n",
       "\n",
       "   Wind Bearing (degrees)  Visibility (km)  Loud Cover  Pressure (millibars)  \\\n",
       "0                     251          15.8263           0               1015.13   \n",
       "1                     259          15.8263           0               1015.63   \n",
       "2                     204          14.9569           0               1015.94   \n",
       "3                     269          15.8263           0               1016.41   \n",
       "4                     259          15.8263           0               1016.51   \n",
       "\n",
       "                       Daily Summary  \n",
       "0  Partly cloudy throughout the day.  \n",
       "1  Partly cloudy throughout the day.  \n",
       "2  Partly cloudy throughout the day.  \n",
       "3  Partly cloudy throughout the day.  \n",
       "4  Partly cloudy throughout the day.  "
      ]
     },
     "execution_count": 2,
     "metadata": {},
     "output_type": "execute_result"
    }
   ],
   "source": [
    "data = pd.read_csv('../input/apparent-temperature-prediction/weather_data.csv')\n",
    "data.head()"
   ]
  },
  {
   "cell_type": "code",
   "execution_count": 3,
   "id": "7b99ccd0",
   "metadata": {
    "execution": {
     "iopub.execute_input": "2022-06-04T06:43:05.389748Z",
     "iopub.status.busy": "2022-06-04T06:43:05.389299Z",
     "iopub.status.idle": "2022-06-04T06:43:05.411152Z",
     "shell.execute_reply": "2022-06-04T06:43:05.409958Z"
    },
    "papermill": {
     "duration": 0.035689,
     "end_time": "2022-06-04T06:43:05.413497",
     "exception": false,
     "start_time": "2022-06-04T06:43:05.377808",
     "status": "completed"
    },
    "tags": []
   },
   "outputs": [
    {
     "data": {
      "text/html": [
       "<div>\n",
       "<style scoped>\n",
       "    .dataframe tbody tr th:only-of-type {\n",
       "        vertical-align: middle;\n",
       "    }\n",
       "\n",
       "    .dataframe tbody tr th {\n",
       "        vertical-align: top;\n",
       "    }\n",
       "\n",
       "    .dataframe thead th {\n",
       "        text-align: right;\n",
       "    }\n",
       "</style>\n",
       "<table border=\"1\" class=\"dataframe\">\n",
       "  <thead>\n",
       "    <tr style=\"text-align: right;\">\n",
       "      <th></th>\n",
       "      <th>Formatted Date</th>\n",
       "      <th>Summary</th>\n",
       "      <th>Precip Type</th>\n",
       "      <th>Temperature (C)</th>\n",
       "      <th>Apparent Temperature (C)</th>\n",
       "      <th>Humidity</th>\n",
       "      <th>Wind Speed (km/h)</th>\n",
       "      <th>Wind Bearing (degrees)</th>\n",
       "      <th>Visibility (km)</th>\n",
       "      <th>Loud Cover</th>\n",
       "      <th>Pressure (millibars)</th>\n",
       "      <th>Daily Summary</th>\n",
       "    </tr>\n",
       "  </thead>\n",
       "  <tbody>\n",
       "    <tr>\n",
       "      <th>5994</th>\n",
       "      <td>2006-05-15 19:00:00.000 +0200</td>\n",
       "      <td>Partly Cloudy</td>\n",
       "      <td>rain</td>\n",
       "      <td>19.094444</td>\n",
       "      <td>19.094444</td>\n",
       "      <td>0.60</td>\n",
       "      <td>6.9391</td>\n",
       "      <td>350</td>\n",
       "      <td>11.2056</td>\n",
       "      <td>0</td>\n",
       "      <td>1020.07</td>\n",
       "      <td>Partly cloudy until night.</td>\n",
       "    </tr>\n",
       "    <tr>\n",
       "      <th>5995</th>\n",
       "      <td>2006-05-15 20:00:00.000 +0200</td>\n",
       "      <td>Partly Cloudy</td>\n",
       "      <td>rain</td>\n",
       "      <td>17.655556</td>\n",
       "      <td>17.655556</td>\n",
       "      <td>0.62</td>\n",
       "      <td>1.6100</td>\n",
       "      <td>56</td>\n",
       "      <td>10.3523</td>\n",
       "      <td>0</td>\n",
       "      <td>1020.44</td>\n",
       "      <td>Partly cloudy until night.</td>\n",
       "    </tr>\n",
       "    <tr>\n",
       "      <th>5996</th>\n",
       "      <td>2006-05-15 21:00:00.000 +0200</td>\n",
       "      <td>Partly Cloudy</td>\n",
       "      <td>rain</td>\n",
       "      <td>15.072222</td>\n",
       "      <td>15.072222</td>\n",
       "      <td>0.78</td>\n",
       "      <td>1.9481</td>\n",
       "      <td>170</td>\n",
       "      <td>9.9820</td>\n",
       "      <td>0</td>\n",
       "      <td>1020.99</td>\n",
       "      <td>Partly cloudy until night.</td>\n",
       "    </tr>\n",
       "    <tr>\n",
       "      <th>5997</th>\n",
       "      <td>2006-05-15 22:00:00.000 +0200</td>\n",
       "      <td>Partly Cloudy</td>\n",
       "      <td>rain</td>\n",
       "      <td>13.405556</td>\n",
       "      <td>13.405556</td>\n",
       "      <td>0.83</td>\n",
       "      <td>3.1073</td>\n",
       "      <td>201</td>\n",
       "      <td>15.8263</td>\n",
       "      <td>0</td>\n",
       "      <td>1021.50</td>\n",
       "      <td>Partly cloudy until night.</td>\n",
       "    </tr>\n",
       "    <tr>\n",
       "      <th>5998</th>\n",
       "      <td>2006-05-15 23:00:00.000 +0200</td>\n",
       "      <td>Clear</td>\n",
       "      <td>rain</td>\n",
       "      <td>12.927778</td>\n",
       "      <td>12.927778</td>\n",
       "      <td>0.90</td>\n",
       "      <td>2.7531</td>\n",
       "      <td>191</td>\n",
       "      <td>14.9569</td>\n",
       "      <td>0</td>\n",
       "      <td>1021.64</td>\n",
       "      <td>Partly cloudy until night.</td>\n",
       "    </tr>\n",
       "  </tbody>\n",
       "</table>\n",
       "</div>"
      ],
      "text/plain": [
       "                     Formatted Date        Summary Precip Type  \\\n",
       "5994  2006-05-15 19:00:00.000 +0200  Partly Cloudy        rain   \n",
       "5995  2006-05-15 20:00:00.000 +0200  Partly Cloudy        rain   \n",
       "5996  2006-05-15 21:00:00.000 +0200  Partly Cloudy        rain   \n",
       "5997  2006-05-15 22:00:00.000 +0200  Partly Cloudy        rain   \n",
       "5998  2006-05-15 23:00:00.000 +0200          Clear        rain   \n",
       "\n",
       "      Temperature (C)  Apparent Temperature (C)  Humidity  Wind Speed (km/h)  \\\n",
       "5994        19.094444                 19.094444      0.60             6.9391   \n",
       "5995        17.655556                 17.655556      0.62             1.6100   \n",
       "5996        15.072222                 15.072222      0.78             1.9481   \n",
       "5997        13.405556                 13.405556      0.83             3.1073   \n",
       "5998        12.927778                 12.927778      0.90             2.7531   \n",
       "\n",
       "      Wind Bearing (degrees)  Visibility (km)  Loud Cover  \\\n",
       "5994                     350          11.2056           0   \n",
       "5995                      56          10.3523           0   \n",
       "5996                     170           9.9820           0   \n",
       "5997                     201          15.8263           0   \n",
       "5998                     191          14.9569           0   \n",
       "\n",
       "      Pressure (millibars)               Daily Summary  \n",
       "5994               1020.07  Partly cloudy until night.  \n",
       "5995               1020.44  Partly cloudy until night.  \n",
       "5996               1020.99  Partly cloudy until night.  \n",
       "5997               1021.50  Partly cloudy until night.  \n",
       "5998               1021.64  Partly cloudy until night.  "
      ]
     },
     "execution_count": 3,
     "metadata": {},
     "output_type": "execute_result"
    }
   ],
   "source": [
    "data.tail()"
   ]
  },
  {
   "cell_type": "code",
   "execution_count": 4,
   "id": "354adaae",
   "metadata": {
    "execution": {
     "iopub.execute_input": "2022-06-04T06:43:05.437627Z",
     "iopub.status.busy": "2022-06-04T06:43:05.436402Z",
     "iopub.status.idle": "2022-06-04T06:43:05.449773Z",
     "shell.execute_reply": "2022-06-04T06:43:05.448656Z"
    },
    "papermill": {
     "duration": 0.027479,
     "end_time": "2022-06-04T06:43:05.451827",
     "exception": false,
     "start_time": "2022-06-04T06:43:05.424348",
     "status": "completed"
    },
    "tags": []
   },
   "outputs": [
    {
     "data": {
      "text/plain": [
       "Formatted Date              0\n",
       "Summary                     0\n",
       "Precip Type                 0\n",
       "Temperature (C)             0\n",
       "Apparent Temperature (C)    0\n",
       "Humidity                    0\n",
       "Wind Speed (km/h)           0\n",
       "Wind Bearing (degrees)      0\n",
       "Visibility (km)             0\n",
       "Loud Cover                  0\n",
       "Pressure (millibars)        0\n",
       "Daily Summary               0\n",
       "dtype: int64"
      ]
     },
     "execution_count": 4,
     "metadata": {},
     "output_type": "execute_result"
    }
   ],
   "source": [
    "data.isnull().sum()"
   ]
  },
  {
   "cell_type": "code",
   "execution_count": 5,
   "id": "2170c672",
   "metadata": {
    "execution": {
     "iopub.execute_input": "2022-06-04T06:43:05.475332Z",
     "iopub.status.busy": "2022-06-04T06:43:05.474732Z",
     "iopub.status.idle": "2022-06-04T06:43:05.487203Z",
     "shell.execute_reply": "2022-06-04T06:43:05.486365Z"
    },
    "papermill": {
     "duration": 0.026994,
     "end_time": "2022-06-04T06:43:05.489645",
     "exception": false,
     "start_time": "2022-06-04T06:43:05.462651",
     "status": "completed"
    },
    "tags": []
   },
   "outputs": [],
   "source": [
    "data = data.drop(['Summary', 'Precip Type','Loud Cover', 'Daily Summary','Wind Bearing (degrees)'],axis =1)"
   ]
  },
  {
   "cell_type": "code",
   "execution_count": 6,
   "id": "5e607257",
   "metadata": {
    "execution": {
     "iopub.execute_input": "2022-06-04T06:43:05.513744Z",
     "iopub.status.busy": "2022-06-04T06:43:05.513315Z",
     "iopub.status.idle": "2022-06-04T06:43:05.523793Z",
     "shell.execute_reply": "2022-06-04T06:43:05.522651Z"
    },
    "papermill": {
     "duration": 0.025495,
     "end_time": "2022-06-04T06:43:05.526137",
     "exception": false,
     "start_time": "2022-06-04T06:43:05.500642",
     "status": "completed"
    },
    "tags": []
   },
   "outputs": [],
   "source": [
    "data['temp. difference'] = (data['Temperature (C)'] - data['Apparent Temperature (C)'])"
   ]
  },
  {
   "cell_type": "code",
   "execution_count": 7,
   "id": "430a8714",
   "metadata": {
    "execution": {
     "iopub.execute_input": "2022-06-04T06:43:05.550223Z",
     "iopub.status.busy": "2022-06-04T06:43:05.549501Z",
     "iopub.status.idle": "2022-06-04T06:43:06.630720Z",
     "shell.execute_reply": "2022-06-04T06:43:06.629826Z"
    },
    "papermill": {
     "duration": 1.09615,
     "end_time": "2022-06-04T06:43:06.633215",
     "exception": false,
     "start_time": "2022-06-04T06:43:05.537065",
     "status": "completed"
    },
    "tags": []
   },
   "outputs": [],
   "source": [
    "data['Formatted Date'] = pd.to_datetime(data['Formatted Date'])"
   ]
  },
  {
   "cell_type": "code",
   "execution_count": 8,
   "id": "f8d6483d",
   "metadata": {
    "execution": {
     "iopub.execute_input": "2022-06-04T06:43:06.658937Z",
     "iopub.status.busy": "2022-06-04T06:43:06.658249Z",
     "iopub.status.idle": "2022-06-04T06:43:06.674465Z",
     "shell.execute_reply": "2022-06-04T06:43:06.673589Z"
    },
    "papermill": {
     "duration": 0.030809,
     "end_time": "2022-06-04T06:43:06.676666",
     "exception": false,
     "start_time": "2022-06-04T06:43:06.645857",
     "status": "completed"
    },
    "tags": []
   },
   "outputs": [
    {
     "data": {
      "text/html": [
       "<div>\n",
       "<style scoped>\n",
       "    .dataframe tbody tr th:only-of-type {\n",
       "        vertical-align: middle;\n",
       "    }\n",
       "\n",
       "    .dataframe tbody tr th {\n",
       "        vertical-align: top;\n",
       "    }\n",
       "\n",
       "    .dataframe thead th {\n",
       "        text-align: right;\n",
       "    }\n",
       "</style>\n",
       "<table border=\"1\" class=\"dataframe\">\n",
       "  <thead>\n",
       "    <tr style=\"text-align: right;\">\n",
       "      <th></th>\n",
       "      <th>Formatted Date</th>\n",
       "      <th>Temperature (C)</th>\n",
       "      <th>Apparent Temperature (C)</th>\n",
       "      <th>Humidity</th>\n",
       "      <th>Wind Speed (km/h)</th>\n",
       "      <th>Visibility (km)</th>\n",
       "      <th>Pressure (millibars)</th>\n",
       "      <th>temp. difference</th>\n",
       "    </tr>\n",
       "  </thead>\n",
       "  <tbody>\n",
       "    <tr>\n",
       "      <th>0</th>\n",
       "      <td>2006-04-01 00:00:00+02:00</td>\n",
       "      <td>9.472222</td>\n",
       "      <td>7.388889</td>\n",
       "      <td>0.89</td>\n",
       "      <td>14.1197</td>\n",
       "      <td>15.8263</td>\n",
       "      <td>1015.13</td>\n",
       "      <td>2.083333</td>\n",
       "    </tr>\n",
       "    <tr>\n",
       "      <th>1</th>\n",
       "      <td>2006-04-01 01:00:00+02:00</td>\n",
       "      <td>9.355556</td>\n",
       "      <td>7.227778</td>\n",
       "      <td>0.86</td>\n",
       "      <td>14.2646</td>\n",
       "      <td>15.8263</td>\n",
       "      <td>1015.63</td>\n",
       "      <td>2.127778</td>\n",
       "    </tr>\n",
       "    <tr>\n",
       "      <th>2</th>\n",
       "      <td>2006-04-01 02:00:00+02:00</td>\n",
       "      <td>9.377778</td>\n",
       "      <td>9.377778</td>\n",
       "      <td>0.89</td>\n",
       "      <td>3.9284</td>\n",
       "      <td>14.9569</td>\n",
       "      <td>1015.94</td>\n",
       "      <td>0.000000</td>\n",
       "    </tr>\n",
       "    <tr>\n",
       "      <th>3</th>\n",
       "      <td>2006-04-01 03:00:00+02:00</td>\n",
       "      <td>8.288889</td>\n",
       "      <td>5.944444</td>\n",
       "      <td>0.83</td>\n",
       "      <td>14.1036</td>\n",
       "      <td>15.8263</td>\n",
       "      <td>1016.41</td>\n",
       "      <td>2.344444</td>\n",
       "    </tr>\n",
       "    <tr>\n",
       "      <th>4</th>\n",
       "      <td>2006-04-01 04:00:00+02:00</td>\n",
       "      <td>8.755556</td>\n",
       "      <td>6.977778</td>\n",
       "      <td>0.83</td>\n",
       "      <td>11.0446</td>\n",
       "      <td>15.8263</td>\n",
       "      <td>1016.51</td>\n",
       "      <td>1.777778</td>\n",
       "    </tr>\n",
       "  </tbody>\n",
       "</table>\n",
       "</div>"
      ],
      "text/plain": [
       "              Formatted Date  Temperature (C)  Apparent Temperature (C)  \\\n",
       "0  2006-04-01 00:00:00+02:00         9.472222                  7.388889   \n",
       "1  2006-04-01 01:00:00+02:00         9.355556                  7.227778   \n",
       "2  2006-04-01 02:00:00+02:00         9.377778                  9.377778   \n",
       "3  2006-04-01 03:00:00+02:00         8.288889                  5.944444   \n",
       "4  2006-04-01 04:00:00+02:00         8.755556                  6.977778   \n",
       "\n",
       "   Humidity  Wind Speed (km/h)  Visibility (km)  Pressure (millibars)  \\\n",
       "0      0.89            14.1197          15.8263               1015.13   \n",
       "1      0.86            14.2646          15.8263               1015.63   \n",
       "2      0.89             3.9284          14.9569               1015.94   \n",
       "3      0.83            14.1036          15.8263               1016.41   \n",
       "4      0.83            11.0446          15.8263               1016.51   \n",
       "\n",
       "   temp. difference  \n",
       "0          2.083333  \n",
       "1          2.127778  \n",
       "2          0.000000  \n",
       "3          2.344444  \n",
       "4          1.777778  "
      ]
     },
     "execution_count": 8,
     "metadata": {},
     "output_type": "execute_result"
    }
   ],
   "source": [
    "data.head()"
   ]
  },
  {
   "cell_type": "code",
   "execution_count": 9,
   "id": "08fe04e5",
   "metadata": {
    "execution": {
     "iopub.execute_input": "2022-06-04T06:43:06.701352Z",
     "iopub.status.busy": "2022-06-04T06:43:06.700646Z",
     "iopub.status.idle": "2022-06-04T06:43:06.743521Z",
     "shell.execute_reply": "2022-06-04T06:43:06.742305Z"
    },
    "papermill": {
     "duration": 0.058239,
     "end_time": "2022-06-04T06:43:06.746062",
     "exception": false,
     "start_time": "2022-06-04T06:43:06.687823",
     "status": "completed"
    },
    "tags": []
   },
   "outputs": [
    {
     "data": {
      "text/html": [
       "<div>\n",
       "<style scoped>\n",
       "    .dataframe tbody tr th:only-of-type {\n",
       "        vertical-align: middle;\n",
       "    }\n",
       "\n",
       "    .dataframe tbody tr th {\n",
       "        vertical-align: top;\n",
       "    }\n",
       "\n",
       "    .dataframe thead th {\n",
       "        text-align: right;\n",
       "    }\n",
       "</style>\n",
       "<table border=\"1\" class=\"dataframe\">\n",
       "  <thead>\n",
       "    <tr style=\"text-align: right;\">\n",
       "      <th></th>\n",
       "      <th>Temperature (C)</th>\n",
       "      <th>Apparent Temperature (C)</th>\n",
       "      <th>Humidity</th>\n",
       "      <th>Wind Speed (km/h)</th>\n",
       "      <th>Visibility (km)</th>\n",
       "      <th>Pressure (millibars)</th>\n",
       "      <th>temp. difference</th>\n",
       "    </tr>\n",
       "  </thead>\n",
       "  <tbody>\n",
       "    <tr>\n",
       "      <th>count</th>\n",
       "      <td>5999.000000</td>\n",
       "      <td>5999.000000</td>\n",
       "      <td>5999.000000</td>\n",
       "      <td>5999.000000</td>\n",
       "      <td>5999.000000</td>\n",
       "      <td>5999.000000</td>\n",
       "      <td>5999.000000</td>\n",
       "    </tr>\n",
       "    <tr>\n",
       "      <th>mean</th>\n",
       "      <td>10.217695</td>\n",
       "      <td>8.958658</td>\n",
       "      <td>0.779488</td>\n",
       "      <td>10.007362</td>\n",
       "      <td>9.476875</td>\n",
       "      <td>997.359828</td>\n",
       "      <td>1.259037</td>\n",
       "    </tr>\n",
       "    <tr>\n",
       "      <th>std</th>\n",
       "      <td>10.565425</td>\n",
       "      <td>11.923712</td>\n",
       "      <td>0.173051</td>\n",
       "      <td>6.536619</td>\n",
       "      <td>4.038583</td>\n",
       "      <td>145.173638</td>\n",
       "      <td>1.907506</td>\n",
       "    </tr>\n",
       "    <tr>\n",
       "      <th>min</th>\n",
       "      <td>-14.088889</td>\n",
       "      <td>-22.094444</td>\n",
       "      <td>0.270000</td>\n",
       "      <td>0.000000</td>\n",
       "      <td>0.000000</td>\n",
       "      <td>0.000000</td>\n",
       "      <td>-3.566667</td>\n",
       "    </tr>\n",
       "    <tr>\n",
       "      <th>25%</th>\n",
       "      <td>1.094444</td>\n",
       "      <td>-1.538889</td>\n",
       "      <td>0.680000</td>\n",
       "      <td>4.878300</td>\n",
       "      <td>6.906900</td>\n",
       "      <td>1012.060000</td>\n",
       "      <td>0.000000</td>\n",
       "    </tr>\n",
       "    <tr>\n",
       "      <th>50%</th>\n",
       "      <td>10.050000</td>\n",
       "      <td>10.050000</td>\n",
       "      <td>0.830000</td>\n",
       "      <td>9.064300</td>\n",
       "      <td>9.982000</td>\n",
       "      <td>1016.840000</td>\n",
       "      <td>0.000000</td>\n",
       "    </tr>\n",
       "    <tr>\n",
       "      <th>75%</th>\n",
       "      <td>18.722222</td>\n",
       "      <td>18.722222</td>\n",
       "      <td>0.920000</td>\n",
       "      <td>13.395200</td>\n",
       "      <td>11.270000</td>\n",
       "      <td>1022.490000</td>\n",
       "      <td>2.675000</td>\n",
       "    </tr>\n",
       "    <tr>\n",
       "      <th>max</th>\n",
       "      <td>34.005556</td>\n",
       "      <td>36.400000</td>\n",
       "      <td>1.000000</td>\n",
       "      <td>45.933300</td>\n",
       "      <td>16.100000</td>\n",
       "      <td>1045.140000</td>\n",
       "      <td>10.183333</td>\n",
       "    </tr>\n",
       "  </tbody>\n",
       "</table>\n",
       "</div>"
      ],
      "text/plain": [
       "       Temperature (C)  Apparent Temperature (C)     Humidity  \\\n",
       "count      5999.000000               5999.000000  5999.000000   \n",
       "mean         10.217695                  8.958658     0.779488   \n",
       "std          10.565425                 11.923712     0.173051   \n",
       "min         -14.088889                -22.094444     0.270000   \n",
       "25%           1.094444                 -1.538889     0.680000   \n",
       "50%          10.050000                 10.050000     0.830000   \n",
       "75%          18.722222                 18.722222     0.920000   \n",
       "max          34.005556                 36.400000     1.000000   \n",
       "\n",
       "       Wind Speed (km/h)  Visibility (km)  Pressure (millibars)  \\\n",
       "count        5999.000000      5999.000000           5999.000000   \n",
       "mean           10.007362         9.476875            997.359828   \n",
       "std             6.536619         4.038583            145.173638   \n",
       "min             0.000000         0.000000              0.000000   \n",
       "25%             4.878300         6.906900           1012.060000   \n",
       "50%             9.064300         9.982000           1016.840000   \n",
       "75%            13.395200        11.270000           1022.490000   \n",
       "max            45.933300        16.100000           1045.140000   \n",
       "\n",
       "       temp. difference  \n",
       "count       5999.000000  \n",
       "mean           1.259037  \n",
       "std            1.907506  \n",
       "min           -3.566667  \n",
       "25%            0.000000  \n",
       "50%            0.000000  \n",
       "75%            2.675000  \n",
       "max           10.183333  "
      ]
     },
     "execution_count": 9,
     "metadata": {},
     "output_type": "execute_result"
    }
   ],
   "source": [
    "data.describe()"
   ]
  },
  {
   "cell_type": "code",
   "execution_count": 10,
   "id": "0f7671a6",
   "metadata": {
    "execution": {
     "iopub.execute_input": "2022-06-04T06:43:06.772222Z",
     "iopub.status.busy": "2022-06-04T06:43:06.771487Z",
     "iopub.status.idle": "2022-06-04T06:43:06.780820Z",
     "shell.execute_reply": "2022-06-04T06:43:06.779671Z"
    },
    "papermill": {
     "duration": 0.025155,
     "end_time": "2022-06-04T06:43:06.783144",
     "exception": false,
     "start_time": "2022-06-04T06:43:06.757989",
     "status": "completed"
    },
    "tags": []
   },
   "outputs": [
    {
     "data": {
      "text/plain": [
       "Formatted Date               object\n",
       "Temperature (C)             float64\n",
       "Apparent Temperature (C)    float64\n",
       "Humidity                    float64\n",
       "Wind Speed (km/h)           float64\n",
       "Visibility (km)             float64\n",
       "Pressure (millibars)        float64\n",
       "temp. difference            float64\n",
       "dtype: object"
      ]
     },
     "execution_count": 10,
     "metadata": {},
     "output_type": "execute_result"
    }
   ],
   "source": [
    "data.dtypes"
   ]
  },
  {
   "cell_type": "code",
   "execution_count": 11,
   "id": "4bd5fa60",
   "metadata": {
    "execution": {
     "iopub.execute_input": "2022-06-04T06:43:06.809259Z",
     "iopub.status.busy": "2022-06-04T06:43:06.808710Z",
     "iopub.status.idle": "2022-06-04T06:43:06.917737Z",
     "shell.execute_reply": "2022-06-04T06:43:06.916400Z"
    },
    "papermill": {
     "duration": 0.125201,
     "end_time": "2022-06-04T06:43:06.920035",
     "exception": false,
     "start_time": "2022-06-04T06:43:06.794834",
     "status": "completed"
    },
    "tags": []
   },
   "outputs": [
    {
     "data": {
      "text/html": [
       "<div>\n",
       "<style scoped>\n",
       "    .dataframe tbody tr th:only-of-type {\n",
       "        vertical-align: middle;\n",
       "    }\n",
       "\n",
       "    .dataframe tbody tr th {\n",
       "        vertical-align: top;\n",
       "    }\n",
       "\n",
       "    .dataframe thead th {\n",
       "        text-align: right;\n",
       "    }\n",
       "</style>\n",
       "<table border=\"1\" class=\"dataframe\">\n",
       "  <thead>\n",
       "    <tr style=\"text-align: right;\">\n",
       "      <th></th>\n",
       "      <th>Temperature (C)</th>\n",
       "      <th>Apparent Temperature (C)</th>\n",
       "      <th>Humidity</th>\n",
       "      <th>Wind Speed (km/h)</th>\n",
       "      <th>Visibility (km)</th>\n",
       "      <th>Pressure (millibars)</th>\n",
       "      <th>temp. difference</th>\n",
       "    </tr>\n",
       "    <tr>\n",
       "      <th>Formatted Date</th>\n",
       "      <th></th>\n",
       "      <th></th>\n",
       "      <th></th>\n",
       "      <th></th>\n",
       "      <th></th>\n",
       "      <th></th>\n",
       "      <th></th>\n",
       "    </tr>\n",
       "  </thead>\n",
       "  <tbody>\n",
       "    <tr>\n",
       "      <th>2006-01-01 00:00:00+01:00</th>\n",
       "      <td>0.577778</td>\n",
       "      <td>-4.050000</td>\n",
       "      <td>0.89</td>\n",
       "      <td>17.1143</td>\n",
       "      <td>9.9820</td>\n",
       "      <td>1016.66</td>\n",
       "      <td>4.627778</td>\n",
       "    </tr>\n",
       "    <tr>\n",
       "      <th>2006-01-01 01:00:00+01:00</th>\n",
       "      <td>1.161111</td>\n",
       "      <td>-3.238889</td>\n",
       "      <td>0.85</td>\n",
       "      <td>16.6152</td>\n",
       "      <td>9.9015</td>\n",
       "      <td>1016.15</td>\n",
       "      <td>4.400000</td>\n",
       "    </tr>\n",
       "    <tr>\n",
       "      <th>2006-01-01 02:00:00+01:00</th>\n",
       "      <td>1.666667</td>\n",
       "      <td>-3.155556</td>\n",
       "      <td>0.82</td>\n",
       "      <td>20.2538</td>\n",
       "      <td>9.9015</td>\n",
       "      <td>1015.87</td>\n",
       "      <td>4.822222</td>\n",
       "    </tr>\n",
       "    <tr>\n",
       "      <th>2006-01-01 03:00:00+01:00</th>\n",
       "      <td>1.711111</td>\n",
       "      <td>-2.194444</td>\n",
       "      <td>0.82</td>\n",
       "      <td>14.4900</td>\n",
       "      <td>9.9015</td>\n",
       "      <td>1015.56</td>\n",
       "      <td>3.905556</td>\n",
       "    </tr>\n",
       "    <tr>\n",
       "      <th>2006-01-01 04:00:00+01:00</th>\n",
       "      <td>1.183333</td>\n",
       "      <td>-2.744444</td>\n",
       "      <td>0.86</td>\n",
       "      <td>13.9426</td>\n",
       "      <td>9.9015</td>\n",
       "      <td>1014.98</td>\n",
       "      <td>3.927778</td>\n",
       "    </tr>\n",
       "  </tbody>\n",
       "</table>\n",
       "</div>"
      ],
      "text/plain": [
       "                           Temperature (C)  Apparent Temperature (C)  \\\n",
       "Formatted Date                                                         \n",
       "2006-01-01 00:00:00+01:00         0.577778                 -4.050000   \n",
       "2006-01-01 01:00:00+01:00         1.161111                 -3.238889   \n",
       "2006-01-01 02:00:00+01:00         1.666667                 -3.155556   \n",
       "2006-01-01 03:00:00+01:00         1.711111                 -2.194444   \n",
       "2006-01-01 04:00:00+01:00         1.183333                 -2.744444   \n",
       "\n",
       "                           Humidity  Wind Speed (km/h)  Visibility (km)  \\\n",
       "Formatted Date                                                            \n",
       "2006-01-01 00:00:00+01:00      0.89            17.1143           9.9820   \n",
       "2006-01-01 01:00:00+01:00      0.85            16.6152           9.9015   \n",
       "2006-01-01 02:00:00+01:00      0.82            20.2538           9.9015   \n",
       "2006-01-01 03:00:00+01:00      0.82            14.4900           9.9015   \n",
       "2006-01-01 04:00:00+01:00      0.86            13.9426           9.9015   \n",
       "\n",
       "                           Pressure (millibars)  temp. difference  \n",
       "Formatted Date                                                     \n",
       "2006-01-01 00:00:00+01:00               1016.66          4.627778  \n",
       "2006-01-01 01:00:00+01:00               1016.15          4.400000  \n",
       "2006-01-01 02:00:00+01:00               1015.87          4.822222  \n",
       "2006-01-01 03:00:00+01:00               1015.56          3.905556  \n",
       "2006-01-01 04:00:00+01:00               1014.98          3.927778  "
      ]
     },
     "execution_count": 11,
     "metadata": {},
     "output_type": "execute_result"
    }
   ],
   "source": [
    "indexdata = data.sort_values(by = ['Formatted Date'])\n",
    "indexdata = indexdata.set_index('Formatted Date')\n",
    "indexdata.index\n",
    "indexdata.index.drop_duplicates(keep='first')\n",
    "indexdata.dropna()\n",
    "indexdata.head()"
   ]
  },
  {
   "cell_type": "code",
   "execution_count": 12,
   "id": "94e0e56e",
   "metadata": {
    "execution": {
     "iopub.execute_input": "2022-06-04T06:43:06.946043Z",
     "iopub.status.busy": "2022-06-04T06:43:06.945582Z",
     "iopub.status.idle": "2022-06-04T06:43:06.965995Z",
     "shell.execute_reply": "2022-06-04T06:43:06.964915Z"
    },
    "papermill": {
     "duration": 0.036188,
     "end_time": "2022-06-04T06:43:06.968144",
     "exception": false,
     "start_time": "2022-06-04T06:43:06.931956",
     "status": "completed"
    },
    "tags": []
   },
   "outputs": [
    {
     "data": {
      "text/html": [
       "<div>\n",
       "<style scoped>\n",
       "    .dataframe tbody tr th:only-of-type {\n",
       "        vertical-align: middle;\n",
       "    }\n",
       "\n",
       "    .dataframe tbody tr th {\n",
       "        vertical-align: top;\n",
       "    }\n",
       "\n",
       "    .dataframe thead th {\n",
       "        text-align: right;\n",
       "    }\n",
       "</style>\n",
       "<table border=\"1\" class=\"dataframe\">\n",
       "  <thead>\n",
       "    <tr style=\"text-align: right;\">\n",
       "      <th></th>\n",
       "      <th>Temperature (C)</th>\n",
       "      <th>Apparent Temperature (C)</th>\n",
       "      <th>Humidity</th>\n",
       "      <th>Wind Speed (km/h)</th>\n",
       "      <th>Visibility (km)</th>\n",
       "      <th>Pressure (millibars)</th>\n",
       "      <th>temp. difference</th>\n",
       "    </tr>\n",
       "    <tr>\n",
       "      <th>Formatted Date</th>\n",
       "      <th></th>\n",
       "      <th></th>\n",
       "      <th></th>\n",
       "      <th></th>\n",
       "      <th></th>\n",
       "      <th></th>\n",
       "      <th></th>\n",
       "    </tr>\n",
       "  </thead>\n",
       "  <tbody>\n",
       "    <tr>\n",
       "      <th>2006-01-01 00:00:00+01:00</th>\n",
       "      <td>0.577778</td>\n",
       "      <td>-4.050000</td>\n",
       "      <td>0.89</td>\n",
       "      <td>17.1143</td>\n",
       "      <td>9.9820</td>\n",
       "      <td>1016.66</td>\n",
       "      <td>4.627778</td>\n",
       "    </tr>\n",
       "    <tr>\n",
       "      <th>2006-01-01 01:00:00+01:00</th>\n",
       "      <td>1.161111</td>\n",
       "      <td>-3.238889</td>\n",
       "      <td>0.85</td>\n",
       "      <td>16.6152</td>\n",
       "      <td>9.9015</td>\n",
       "      <td>1016.15</td>\n",
       "      <td>4.400000</td>\n",
       "    </tr>\n",
       "    <tr>\n",
       "      <th>2006-01-01 02:00:00+01:00</th>\n",
       "      <td>1.666667</td>\n",
       "      <td>-3.155556</td>\n",
       "      <td>0.82</td>\n",
       "      <td>20.2538</td>\n",
       "      <td>9.9015</td>\n",
       "      <td>1015.87</td>\n",
       "      <td>4.822222</td>\n",
       "    </tr>\n",
       "    <tr>\n",
       "      <th>2006-01-01 03:00:00+01:00</th>\n",
       "      <td>1.711111</td>\n",
       "      <td>-2.194444</td>\n",
       "      <td>0.82</td>\n",
       "      <td>14.4900</td>\n",
       "      <td>9.9015</td>\n",
       "      <td>1015.56</td>\n",
       "      <td>3.905556</td>\n",
       "    </tr>\n",
       "    <tr>\n",
       "      <th>2006-01-01 04:00:00+01:00</th>\n",
       "      <td>1.183333</td>\n",
       "      <td>-2.744444</td>\n",
       "      <td>0.86</td>\n",
       "      <td>13.9426</td>\n",
       "      <td>9.9015</td>\n",
       "      <td>1014.98</td>\n",
       "      <td>3.927778</td>\n",
       "    </tr>\n",
       "  </tbody>\n",
       "</table>\n",
       "</div>"
      ],
      "text/plain": [
       "                           Temperature (C)  Apparent Temperature (C)  \\\n",
       "Formatted Date                                                         \n",
       "2006-01-01 00:00:00+01:00         0.577778                 -4.050000   \n",
       "2006-01-01 01:00:00+01:00         1.161111                 -3.238889   \n",
       "2006-01-01 02:00:00+01:00         1.666667                 -3.155556   \n",
       "2006-01-01 03:00:00+01:00         1.711111                 -2.194444   \n",
       "2006-01-01 04:00:00+01:00         1.183333                 -2.744444   \n",
       "\n",
       "                           Humidity  Wind Speed (km/h)  Visibility (km)  \\\n",
       "Formatted Date                                                            \n",
       "2006-01-01 00:00:00+01:00      0.89            17.1143           9.9820   \n",
       "2006-01-01 01:00:00+01:00      0.85            16.6152           9.9015   \n",
       "2006-01-01 02:00:00+01:00      0.82            20.2538           9.9015   \n",
       "2006-01-01 03:00:00+01:00      0.82            14.4900           9.9015   \n",
       "2006-01-01 04:00:00+01:00      0.86            13.9426           9.9015   \n",
       "\n",
       "                           Pressure (millibars)  temp. difference  \n",
       "Formatted Date                                                     \n",
       "2006-01-01 00:00:00+01:00               1016.66          4.627778  \n",
       "2006-01-01 01:00:00+01:00               1016.15          4.400000  \n",
       "2006-01-01 02:00:00+01:00               1015.87          4.822222  \n",
       "2006-01-01 03:00:00+01:00               1015.56          3.905556  \n",
       "2006-01-01 04:00:00+01:00               1014.98          3.927778  "
      ]
     },
     "execution_count": 12,
     "metadata": {},
     "output_type": "execute_result"
    }
   ],
   "source": [
    "data = indexdata\n",
    "data.head()"
   ]
  },
  {
   "cell_type": "code",
   "execution_count": 13,
   "id": "568eb6a8",
   "metadata": {
    "execution": {
     "iopub.execute_input": "2022-06-04T06:43:06.995331Z",
     "iopub.status.busy": "2022-06-04T06:43:06.994872Z",
     "iopub.status.idle": "2022-06-04T06:43:07.386649Z",
     "shell.execute_reply": "2022-06-04T06:43:07.384859Z"
    },
    "papermill": {
     "duration": 0.408543,
     "end_time": "2022-06-04T06:43:07.389491",
     "exception": false,
     "start_time": "2022-06-04T06:43:06.980948",
     "status": "completed"
    },
    "tags": []
   },
   "outputs": [
    {
     "data": {
      "text/plain": [
       "[<matplotlib.lines.Line2D at 0x7f5d19502ad0>]"
      ]
     },
     "execution_count": 13,
     "metadata": {},
     "output_type": "execute_result"
    },
    {
     "data": {
      "image/png": "[encoded data removed]",
      "text/plain": [
       "<Figure size 720x720 with 1 Axes>"
      ]
     },
     "metadata": {
      "needs_background": "light"
     },
     "output_type": "display_data"
    }
   ],
   "source": [
    "fig = plt.figure(figsize=(10,10))\n",
    "plt.plot(data['Apparent Temperature (C)'])"
   ]
  },
  {
   "cell_type": "code",
   "execution_count": 14,
   "id": "f9130770",
   "metadata": {
    "execution": {
     "iopub.execute_input": "2022-06-04T06:43:07.417928Z",
     "iopub.status.busy": "2022-06-04T06:43:07.417505Z",
     "iopub.status.idle": "2022-06-04T06:43:07.467279Z",
     "shell.execute_reply": "2022-06-04T06:43:07.465915Z"
    },
    "papermill": {
     "duration": 0.067084,
     "end_time": "2022-06-04T06:43:07.469874",
     "exception": false,
     "start_time": "2022-06-04T06:43:07.402790",
     "status": "completed"
    },
    "tags": []
   },
   "outputs": [
    {
     "data": {
      "text/html": [
       "<div>\n",
       "<style scoped>\n",
       "    .dataframe tbody tr th:only-of-type {\n",
       "        vertical-align: middle;\n",
       "    }\n",
       "\n",
       "    .dataframe tbody tr th {\n",
       "        vertical-align: top;\n",
       "    }\n",
       "\n",
       "    .dataframe thead th {\n",
       "        text-align: right;\n",
       "    }\n",
       "</style>\n",
       "<table border=\"1\" class=\"dataframe\">\n",
       "  <thead>\n",
       "    <tr style=\"text-align: right;\">\n",
       "      <th></th>\n",
       "      <th>Temperature (C)</th>\n",
       "      <th>Apparent Temperature (C)</th>\n",
       "      <th>Humidity</th>\n",
       "      <th>Wind Speed (km/h)</th>\n",
       "      <th>Visibility (km)</th>\n",
       "      <th>Pressure (millibars)</th>\n",
       "      <th>temp. difference</th>\n",
       "    </tr>\n",
       "    <tr>\n",
       "      <th>Formatted Date</th>\n",
       "      <th></th>\n",
       "      <th></th>\n",
       "      <th></th>\n",
       "      <th></th>\n",
       "      <th></th>\n",
       "      <th></th>\n",
       "      <th></th>\n",
       "    </tr>\n",
       "  </thead>\n",
       "  <tbody>\n",
       "    <tr>\n",
       "      <th>2005-12-31 00:00:00+00:00</th>\n",
       "      <td>0.577778</td>\n",
       "      <td>-4.050000</td>\n",
       "      <td>0.890000</td>\n",
       "      <td>17.114300</td>\n",
       "      <td>9.982000</td>\n",
       "      <td>1016.660000</td>\n",
       "      <td>4.627778</td>\n",
       "    </tr>\n",
       "    <tr>\n",
       "      <th>2006-01-01 00:00:00+00:00</th>\n",
       "      <td>4.075000</td>\n",
       "      <td>-0.174537</td>\n",
       "      <td>0.817083</td>\n",
       "      <td>21.229192</td>\n",
       "      <td>11.348487</td>\n",
       "      <td>1011.985000</td>\n",
       "      <td>4.249537</td>\n",
       "    </tr>\n",
       "    <tr>\n",
       "      <th>2006-01-02 00:00:00+00:00</th>\n",
       "      <td>5.263194</td>\n",
       "      <td>1.808796</td>\n",
       "      <td>0.847083</td>\n",
       "      <td>17.824713</td>\n",
       "      <td>8.492079</td>\n",
       "      <td>1010.384167</td>\n",
       "      <td>3.454398</td>\n",
       "    </tr>\n",
       "    <tr>\n",
       "      <th>2006-01-03 00:00:00+00:00</th>\n",
       "      <td>2.340509</td>\n",
       "      <td>0.445370</td>\n",
       "      <td>0.897083</td>\n",
       "      <td>7.726658</td>\n",
       "      <td>9.223958</td>\n",
       "      <td>1021.170833</td>\n",
       "      <td>1.895139</td>\n",
       "    </tr>\n",
       "    <tr>\n",
       "      <th>2006-01-04 00:00:00+00:00</th>\n",
       "      <td>2.251852</td>\n",
       "      <td>-0.663194</td>\n",
       "      <td>0.906667</td>\n",
       "      <td>12.152817</td>\n",
       "      <td>8.352546</td>\n",
       "      <td>981.770833</td>\n",
       "      <td>2.915046</td>\n",
       "    </tr>\n",
       "  </tbody>\n",
       "</table>\n",
       "</div>"
      ],
      "text/plain": [
       "                           Temperature (C)  Apparent Temperature (C)  \\\n",
       "Formatted Date                                                         \n",
       "2005-12-31 00:00:00+00:00         0.577778                 -4.050000   \n",
       "2006-01-01 00:00:00+00:00         4.075000                 -0.174537   \n",
       "2006-01-02 00:00:00+00:00         5.263194                  1.808796   \n",
       "2006-01-03 00:00:00+00:00         2.340509                  0.445370   \n",
       "2006-01-04 00:00:00+00:00         2.251852                 -0.663194   \n",
       "\n",
       "                           Humidity  Wind Speed (km/h)  Visibility (km)  \\\n",
       "Formatted Date                                                            \n",
       "2005-12-31 00:00:00+00:00  0.890000          17.114300         9.982000   \n",
       "2006-01-01 00:00:00+00:00  0.817083          21.229192        11.348487   \n",
       "2006-01-02 00:00:00+00:00  0.847083          17.824713         8.492079   \n",
       "2006-01-03 00:00:00+00:00  0.897083           7.726658         9.223958   \n",
       "2006-01-04 00:00:00+00:00  0.906667          12.152817         8.352546   \n",
       "\n",
       "                           Pressure (millibars)  temp. difference  \n",
       "Formatted Date                                                     \n",
       "2005-12-31 00:00:00+00:00           1016.660000          4.627778  \n",
       "2006-01-01 00:00:00+00:00           1011.985000          4.249537  \n",
       "2006-01-02 00:00:00+00:00           1010.384167          3.454398  \n",
       "2006-01-03 00:00:00+00:00           1021.170833          1.895139  \n",
       "2006-01-04 00:00:00+00:00            981.770833          2.915046  "
      ]
     },
     "execution_count": 14,
     "metadata": {},
     "output_type": "execute_result"
    }
   ],
   "source": [
    "data.index = pd.to_datetime(indexdata.index,utc =True)\n",
    "data2 = data.resample(rule='D').mean()\n",
    "data2.head()"
   ]
  },
  {
   "cell_type": "code",
   "execution_count": 15,
   "id": "7fa876e9",
   "metadata": {
    "execution": {
     "iopub.execute_input": "2022-06-04T06:43:07.499770Z",
     "iopub.status.busy": "2022-06-04T06:43:07.499337Z",
     "iopub.status.idle": "2022-06-04T06:43:07.510592Z",
     "shell.execute_reply": "2022-06-04T06:43:07.508986Z"
    },
    "papermill": {
     "duration": 0.029494,
     "end_time": "2022-06-04T06:43:07.512967",
     "exception": false,
     "start_time": "2022-06-04T06:43:07.483473",
     "status": "completed"
    },
    "tags": []
   },
   "outputs": [
    {
     "data": {
      "text/plain": [
       "Temperature (C)             112\n",
       "Apparent Temperature (C)    112\n",
       "Humidity                    112\n",
       "Wind Speed (km/h)           112\n",
       "Visibility (km)             112\n",
       "Pressure (millibars)        112\n",
       "temp. difference            112\n",
       "dtype: int64"
      ]
     },
     "execution_count": 15,
     "metadata": {},
     "output_type": "execute_result"
    }
   ],
   "source": [
    "data2.isnull().sum()"
   ]
  },
  {
   "cell_type": "code",
   "execution_count": 16,
   "id": "ef05fbe7",
   "metadata": {
    "execution": {
     "iopub.execute_input": "2022-06-04T06:43:07.542464Z",
     "iopub.status.busy": "2022-06-04T06:43:07.541960Z",
     "iopub.status.idle": "2022-06-04T06:43:07.551980Z",
     "shell.execute_reply": "2022-06-04T06:43:07.550683Z"
    },
    "papermill": {
     "duration": 0.027844,
     "end_time": "2022-06-04T06:43:07.554360",
     "exception": false,
     "start_time": "2022-06-04T06:43:07.526516",
     "status": "completed"
    },
    "tags": []
   },
   "outputs": [
    {
     "data": {
      "text/plain": [
       "Temperature (C)             float64\n",
       "Apparent Temperature (C)    float64\n",
       "Humidity                    float64\n",
       "Wind Speed (km/h)           float64\n",
       "Visibility (km)             float64\n",
       "Pressure (millibars)        float64\n",
       "temp. difference            float64\n",
       "dtype: object"
      ]
     },
     "execution_count": 16,
     "metadata": {},
     "output_type": "execute_result"
    }
   ],
   "source": [
    "data2.dtypes"
   ]
  },
  {
   "cell_type": "code",
   "execution_count": 17,
   "id": "156e88b4",
   "metadata": {
    "execution": {
     "iopub.execute_input": "2022-06-04T06:43:07.583004Z",
     "iopub.status.busy": "2022-06-04T06:43:07.582536Z",
     "iopub.status.idle": "2022-06-04T06:43:07.623688Z",
     "shell.execute_reply": "2022-06-04T06:43:07.622521Z"
    },
    "papermill": {
     "duration": 0.058735,
     "end_time": "2022-06-04T06:43:07.626413",
     "exception": false,
     "start_time": "2022-06-04T06:43:07.567678",
     "status": "completed"
    },
    "tags": []
   },
   "outputs": [
    {
     "data": {
      "text/html": [
       "<div>\n",
       "<style scoped>\n",
       "    .dataframe tbody tr th:only-of-type {\n",
       "        vertical-align: middle;\n",
       "    }\n",
       "\n",
       "    .dataframe tbody tr th {\n",
       "        vertical-align: top;\n",
       "    }\n",
       "\n",
       "    .dataframe thead th {\n",
       "        text-align: right;\n",
       "    }\n",
       "</style>\n",
       "<table border=\"1\" class=\"dataframe\">\n",
       "  <thead>\n",
       "    <tr style=\"text-align: right;\">\n",
       "      <th></th>\n",
       "      <th>Temperature (C)</th>\n",
       "      <th>Apparent Temperature (C)</th>\n",
       "      <th>Humidity</th>\n",
       "      <th>Wind Speed (km/h)</th>\n",
       "      <th>Visibility (km)</th>\n",
       "      <th>Pressure (millibars)</th>\n",
       "      <th>temp. difference</th>\n",
       "    </tr>\n",
       "  </thead>\n",
       "  <tbody>\n",
       "    <tr>\n",
       "      <th>count</th>\n",
       "      <td>254.000000</td>\n",
       "      <td>254.000000</td>\n",
       "      <td>254.000000</td>\n",
       "      <td>254.000000</td>\n",
       "      <td>254.000000</td>\n",
       "      <td>254.000000</td>\n",
       "      <td>254.000000</td>\n",
       "    </tr>\n",
       "    <tr>\n",
       "      <th>mean</th>\n",
       "      <td>10.163863</td>\n",
       "      <td>8.900450</td>\n",
       "      <td>0.780951</td>\n",
       "      <td>10.002588</td>\n",
       "      <td>9.506416</td>\n",
       "      <td>997.655220</td>\n",
       "      <td>1.263413</td>\n",
       "    </tr>\n",
       "    <tr>\n",
       "      <th>std</th>\n",
       "      <td>10.001123</td>\n",
       "      <td>11.336094</td>\n",
       "      <td>0.111037</td>\n",
       "      <td>4.676436</td>\n",
       "      <td>3.127775</td>\n",
       "      <td>72.760396</td>\n",
       "      <td>1.637804</td>\n",
       "    </tr>\n",
       "    <tr>\n",
       "      <th>min</th>\n",
       "      <td>-11.469444</td>\n",
       "      <td>-18.281944</td>\n",
       "      <td>0.482083</td>\n",
       "      <td>2.543129</td>\n",
       "      <td>0.213996</td>\n",
       "      <td>381.667500</td>\n",
       "      <td>-0.942593</td>\n",
       "    </tr>\n",
       "    <tr>\n",
       "      <th>25%</th>\n",
       "      <td>0.771296</td>\n",
       "      <td>-1.507639</td>\n",
       "      <td>0.684583</td>\n",
       "      <td>6.796045</td>\n",
       "      <td>8.142072</td>\n",
       "      <td>1009.569271</td>\n",
       "      <td>0.000000</td>\n",
       "    </tr>\n",
       "    <tr>\n",
       "      <th>50%</th>\n",
       "      <td>10.893403</td>\n",
       "      <td>10.139699</td>\n",
       "      <td>0.789792</td>\n",
       "      <td>8.913362</td>\n",
       "      <td>10.760502</td>\n",
       "      <td>1016.207083</td>\n",
       "      <td>0.503472</td>\n",
       "    </tr>\n",
       "    <tr>\n",
       "      <th>75%</th>\n",
       "      <td>18.841435</td>\n",
       "      <td>18.841435</td>\n",
       "      <td>0.874271</td>\n",
       "      <td>12.188371</td>\n",
       "      <td>11.821257</td>\n",
       "      <td>1021.393646</td>\n",
       "      <td>2.249884</td>\n",
       "    </tr>\n",
       "    <tr>\n",
       "      <th>max</th>\n",
       "      <td>27.450000</td>\n",
       "      <td>28.388657</td>\n",
       "      <td>0.984167</td>\n",
       "      <td>31.941729</td>\n",
       "      <td>15.826300</td>\n",
       "      <td>1043.514583</td>\n",
       "      <td>7.036806</td>\n",
       "    </tr>\n",
       "  </tbody>\n",
       "</table>\n",
       "</div>"
      ],
      "text/plain": [
       "       Temperature (C)  Apparent Temperature (C)    Humidity  \\\n",
       "count       254.000000                254.000000  254.000000   \n",
       "mean         10.163863                  8.900450    0.780951   \n",
       "std          10.001123                 11.336094    0.111037   \n",
       "min         -11.469444                -18.281944    0.482083   \n",
       "25%           0.771296                 -1.507639    0.684583   \n",
       "50%          10.893403                 10.139699    0.789792   \n",
       "75%          18.841435                 18.841435    0.874271   \n",
       "max          27.450000                 28.388657    0.984167   \n",
       "\n",
       "       Wind Speed (km/h)  Visibility (km)  Pressure (millibars)  \\\n",
       "count         254.000000       254.000000            254.000000   \n",
       "mean           10.002588         9.506416            997.655220   \n",
       "std             4.676436         3.127775             72.760396   \n",
       "min             2.543129         0.213996            381.667500   \n",
       "25%             6.796045         8.142072           1009.569271   \n",
       "50%             8.913362        10.760502           1016.207083   \n",
       "75%            12.188371        11.821257           1021.393646   \n",
       "max            31.941729        15.826300           1043.514583   \n",
       "\n",
       "       temp. difference  \n",
       "count        254.000000  \n",
       "mean           1.263413  \n",
       "std            1.637804  \n",
       "min           -0.942593  \n",
       "25%            0.000000  \n",
       "50%            0.503472  \n",
       "75%            2.249884  \n",
       "max            7.036806  "
      ]
     },
     "execution_count": 17,
     "metadata": {},
     "output_type": "execute_result"
    }
   ],
   "source": [
    "data2.describe()"
   ]
  },
  {
   "cell_type": "code",
   "execution_count": 18,
   "id": "435203a8",
   "metadata": {
    "execution": {
     "iopub.execute_input": "2022-06-04T06:43:07.655965Z",
     "iopub.status.busy": "2022-06-04T06:43:07.655559Z",
     "iopub.status.idle": "2022-06-04T06:43:07.664301Z",
     "shell.execute_reply": "2022-06-04T06:43:07.663080Z"
    },
    "papermill": {
     "duration": 0.026476,
     "end_time": "2022-06-04T06:43:07.666473",
     "exception": false,
     "start_time": "2022-06-04T06:43:07.639997",
     "status": "completed"
    },
    "tags": []
   },
   "outputs": [],
   "source": [
    "data2 = data2.fillna(data2.mean())"
   ]
  },
  {
   "cell_type": "code",
   "execution_count": 19,
   "id": "ab26e39a",
   "metadata": {
    "execution": {
     "iopub.execute_input": "2022-06-04T06:43:07.696792Z",
     "iopub.status.busy": "2022-06-04T06:43:07.696219Z",
     "iopub.status.idle": "2022-06-04T06:43:07.714816Z",
     "shell.execute_reply": "2022-06-04T06:43:07.713655Z"
    },
    "papermill": {
     "duration": 0.03662,
     "end_time": "2022-06-04T06:43:07.717055",
     "exception": false,
     "start_time": "2022-06-04T06:43:07.680435",
     "status": "completed"
    },
    "tags": []
   },
   "outputs": [
    {
     "data": {
      "text/html": [
       "<div>\n",
       "<style scoped>\n",
       "    .dataframe tbody tr th:only-of-type {\n",
       "        vertical-align: middle;\n",
       "    }\n",
       "\n",
       "    .dataframe tbody tr th {\n",
       "        vertical-align: top;\n",
       "    }\n",
       "\n",
       "    .dataframe thead th {\n",
       "        text-align: right;\n",
       "    }\n",
       "</style>\n",
       "<table border=\"1\" class=\"dataframe\">\n",
       "  <thead>\n",
       "    <tr style=\"text-align: right;\">\n",
       "      <th></th>\n",
       "      <th>Temperature (C)</th>\n",
       "      <th>Apparent Temperature (C)</th>\n",
       "      <th>Humidity</th>\n",
       "      <th>Wind Speed (km/h)</th>\n",
       "      <th>Visibility (km)</th>\n",
       "      <th>Pressure (millibars)</th>\n",
       "      <th>temp. difference</th>\n",
       "    </tr>\n",
       "    <tr>\n",
       "      <th>Formatted Date</th>\n",
       "      <th></th>\n",
       "      <th></th>\n",
       "      <th></th>\n",
       "      <th></th>\n",
       "      <th></th>\n",
       "      <th></th>\n",
       "      <th></th>\n",
       "    </tr>\n",
       "  </thead>\n",
       "  <tbody>\n",
       "    <tr>\n",
       "      <th>2005-12-31 00:00:00+00:00</th>\n",
       "      <td>0</td>\n",
       "      <td>-4</td>\n",
       "      <td>0</td>\n",
       "      <td>17</td>\n",
       "      <td>9</td>\n",
       "      <td>1016</td>\n",
       "      <td>4</td>\n",
       "    </tr>\n",
       "    <tr>\n",
       "      <th>2006-01-01 00:00:00+00:00</th>\n",
       "      <td>4</td>\n",
       "      <td>0</td>\n",
       "      <td>0</td>\n",
       "      <td>21</td>\n",
       "      <td>11</td>\n",
       "      <td>1011</td>\n",
       "      <td>4</td>\n",
       "    </tr>\n",
       "    <tr>\n",
       "      <th>2006-01-02 00:00:00+00:00</th>\n",
       "      <td>5</td>\n",
       "      <td>1</td>\n",
       "      <td>0</td>\n",
       "      <td>17</td>\n",
       "      <td>8</td>\n",
       "      <td>1010</td>\n",
       "      <td>3</td>\n",
       "    </tr>\n",
       "    <tr>\n",
       "      <th>2006-01-03 00:00:00+00:00</th>\n",
       "      <td>2</td>\n",
       "      <td>0</td>\n",
       "      <td>0</td>\n",
       "      <td>7</td>\n",
       "      <td>9</td>\n",
       "      <td>1021</td>\n",
       "      <td>1</td>\n",
       "    </tr>\n",
       "    <tr>\n",
       "      <th>2006-01-04 00:00:00+00:00</th>\n",
       "      <td>2</td>\n",
       "      <td>0</td>\n",
       "      <td>0</td>\n",
       "      <td>12</td>\n",
       "      <td>8</td>\n",
       "      <td>981</td>\n",
       "      <td>2</td>\n",
       "    </tr>\n",
       "    <tr>\n",
       "      <th>...</th>\n",
       "      <td>...</td>\n",
       "      <td>...</td>\n",
       "      <td>...</td>\n",
       "      <td>...</td>\n",
       "      <td>...</td>\n",
       "      <td>...</td>\n",
       "      <td>...</td>\n",
       "    </tr>\n",
       "    <tr>\n",
       "      <th>2006-12-27 00:00:00+00:00</th>\n",
       "      <td>-1</td>\n",
       "      <td>-4</td>\n",
       "      <td>0</td>\n",
       "      <td>7</td>\n",
       "      <td>10</td>\n",
       "      <td>1036</td>\n",
       "      <td>2</td>\n",
       "    </tr>\n",
       "    <tr>\n",
       "      <th>2006-12-28 00:00:00+00:00</th>\n",
       "      <td>-4</td>\n",
       "      <td>-7</td>\n",
       "      <td>0</td>\n",
       "      <td>7</td>\n",
       "      <td>0</td>\n",
       "      <td>1030</td>\n",
       "      <td>2</td>\n",
       "    </tr>\n",
       "    <tr>\n",
       "      <th>2006-12-29 00:00:00+00:00</th>\n",
       "      <td>-1</td>\n",
       "      <td>-3</td>\n",
       "      <td>0</td>\n",
       "      <td>7</td>\n",
       "      <td>4</td>\n",
       "      <td>1031</td>\n",
       "      <td>2</td>\n",
       "    </tr>\n",
       "    <tr>\n",
       "      <th>2006-12-30 00:00:00+00:00</th>\n",
       "      <td>-1</td>\n",
       "      <td>-5</td>\n",
       "      <td>0</td>\n",
       "      <td>9</td>\n",
       "      <td>4</td>\n",
       "      <td>994</td>\n",
       "      <td>3</td>\n",
       "    </tr>\n",
       "    <tr>\n",
       "      <th>2006-12-31 00:00:00+00:00</th>\n",
       "      <td>-2</td>\n",
       "      <td>-5</td>\n",
       "      <td>0</td>\n",
       "      <td>9</td>\n",
       "      <td>4</td>\n",
       "      <td>1035</td>\n",
       "      <td>3</td>\n",
       "    </tr>\n",
       "  </tbody>\n",
       "</table>\n",
       "<p>366 rows × 7 columns</p>\n",
       "</div>"
      ],
      "text/plain": [
       "                           Temperature (C)  Apparent Temperature (C)  \\\n",
       "Formatted Date                                                         \n",
       "2005-12-31 00:00:00+00:00                0                        -4   \n",
       "2006-01-01 00:00:00+00:00                4                         0   \n",
       "2006-01-02 00:00:00+00:00                5                         1   \n",
       "2006-01-03 00:00:00+00:00                2                         0   \n",
       "2006-01-04 00:00:00+00:00                2                         0   \n",
       "...                                    ...                       ...   \n",
       "2006-12-27 00:00:00+00:00               -1                        -4   \n",
       "2006-12-28 00:00:00+00:00               -4                        -7   \n",
       "2006-12-29 00:00:00+00:00               -1                        -3   \n",
       "2006-12-30 00:00:00+00:00               -1                        -5   \n",
       "2006-12-31 00:00:00+00:00               -2                        -5   \n",
       "\n",
       "                           Humidity  Wind Speed (km/h)  Visibility (km)  \\\n",
       "Formatted Date                                                            \n",
       "2005-12-31 00:00:00+00:00         0                 17                9   \n",
       "2006-01-01 00:00:00+00:00         0                 21               11   \n",
       "2006-01-02 00:00:00+00:00         0                 17                8   \n",
       "2006-01-03 00:00:00+00:00         0                  7                9   \n",
       "2006-01-04 00:00:00+00:00         0                 12                8   \n",
       "...                             ...                ...              ...   \n",
       "2006-12-27 00:00:00+00:00         0                  7               10   \n",
       "2006-12-28 00:00:00+00:00         0                  7                0   \n",
       "2006-12-29 00:00:00+00:00         0                  7                4   \n",
       "2006-12-30 00:00:00+00:00         0                  9                4   \n",
       "2006-12-31 00:00:00+00:00         0                  9                4   \n",
       "\n",
       "                           Pressure (millibars)  temp. difference  \n",
       "Formatted Date                                                     \n",
       "2005-12-31 00:00:00+00:00                  1016                 4  \n",
       "2006-01-01 00:00:00+00:00                  1011                 4  \n",
       "2006-01-02 00:00:00+00:00                  1010                 3  \n",
       "2006-01-03 00:00:00+00:00                  1021                 1  \n",
       "2006-01-04 00:00:00+00:00                   981                 2  \n",
       "...                                         ...               ...  \n",
       "2006-12-27 00:00:00+00:00                  1036                 2  \n",
       "2006-12-28 00:00:00+00:00                  1030                 2  \n",
       "2006-12-29 00:00:00+00:00                  1031                 2  \n",
       "2006-12-30 00:00:00+00:00                   994                 3  \n",
       "2006-12-31 00:00:00+00:00                  1035                 3  \n",
       "\n",
       "[366 rows x 7 columns]"
      ]
     },
     "execution_count": 19,
     "metadata": {},
     "output_type": "execute_result"
    }
   ],
   "source": [
    "data2.head()\n",
    "data2.astype(int)"
   ]
  },
  {
   "cell_type": "code",
   "execution_count": 20,
   "id": "eaaf1121",
   "metadata": {
    "execution": {
     "iopub.execute_input": "2022-06-04T06:43:07.747959Z",
     "iopub.status.busy": "2022-06-04T06:43:07.747144Z",
     "iopub.status.idle": "2022-06-04T06:43:07.765499Z",
     "shell.execute_reply": "2022-06-04T06:43:07.764360Z"
    },
    "papermill": {
     "duration": 0.036813,
     "end_time": "2022-06-04T06:43:07.768255",
     "exception": false,
     "start_time": "2022-06-04T06:43:07.731442",
     "status": "completed"
    },
    "tags": []
   },
   "outputs": [],
   "source": [
    "winter = data2['2006-01-01' : '2006-02-28']\n",
    "winter2 =data2['2006-12-01' : '2006-12-31']\n",
    "spring = data2['2006-03-01' : '2006-05-31']\n",
    "summer = data2['2006-06-01' : '2006-08-31']"
   ]
  },
  {
   "cell_type": "code",
   "execution_count": 21,
   "id": "c020b9f4",
   "metadata": {
    "execution": {
     "iopub.execute_input": "2022-06-04T06:43:07.800274Z",
     "iopub.status.busy": "2022-06-04T06:43:07.799836Z",
     "iopub.status.idle": "2022-06-04T06:43:08.279763Z",
     "shell.execute_reply": "2022-06-04T06:43:08.278636Z"
    },
    "papermill": {
     "duration": 0.498809,
     "end_time": "2022-06-04T06:43:08.282435",
     "exception": false,
     "start_time": "2022-06-04T06:43:07.783626",
     "status": "completed"
    },
    "tags": []
   },
   "outputs": [
    {
     "data": {
      "text/plain": [
       "<AxesSubplot:xlabel='Formatted Date'>"
      ]
     },
     "execution_count": 21,
     "metadata": {},
     "output_type": "execute_result"
    },
    {
     "data": {
      "image/png": "[encoded data removed]",
      "text/plain": [
       "<Figure size 432x288 with 1 Axes>"
      ]
     },
     "metadata": {
      "needs_background": "light"
     },
     "output_type": "display_data"
    }
   ],
   "source": [
    "winter.plot(y=['Apparent Temperature (C)' ,'Temperature (C)'])\n",
    "\n",
    "#plt.plot(winter2['Apparent Temperature (C)'], winter2['Temperature (C)'])"
   ]
  },
  {
   "cell_type": "code",
   "execution_count": 22,
   "id": "e669cd60",
   "metadata": {
    "execution": {
     "iopub.execute_input": "2022-06-04T06:43:08.315466Z",
     "iopub.status.busy": "2022-06-04T06:43:08.314933Z",
     "iopub.status.idle": "2022-06-04T06:43:08.601103Z",
     "shell.execute_reply": "2022-06-04T06:43:08.599903Z"
    },
    "papermill": {
     "duration": 0.306137,
     "end_time": "2022-06-04T06:43:08.603730",
     "exception": false,
     "start_time": "2022-06-04T06:43:08.297593",
     "status": "completed"
    },
    "tags": []
   },
   "outputs": [
    {
     "data": {
      "text/plain": [
       "<AxesSubplot:xlabel='Formatted Date'>"
      ]
     },
     "execution_count": 22,
     "metadata": {},
     "output_type": "execute_result"
    },
    {
     "data": {
      "image/png": "[encoded data removed]",
      "text/plain": [
       "<Figure size 432x288 with 1 Axes>"
      ]
     },
     "metadata": {
      "needs_background": "light"
     },
     "output_type": "display_data"
    }
   ],
   "source": [
    "spring.plot(y=['Apparent Temperature (C)' ,'Temperature (C)'])"
   ]
  },
  {
   "cell_type": "code",
   "execution_count": 23,
   "id": "730cb308",
   "metadata": {
    "execution": {
     "iopub.execute_input": "2022-06-04T06:43:08.636452Z",
     "iopub.status.busy": "2022-06-04T06:43:08.636017Z",
     "iopub.status.idle": "2022-06-04T06:43:08.935321Z",
     "shell.execute_reply": "2022-06-04T06:43:08.933432Z"
    },
    "papermill": {
     "duration": 0.318809,
     "end_time": "2022-06-04T06:43:08.938193",
     "exception": false,
     "start_time": "2022-06-04T06:43:08.619384",
     "status": "completed"
    },
    "tags": []
   },
   "outputs": [
    {
     "data": {
      "text/plain": [
       "<AxesSubplot:xlabel='Formatted Date'>"
      ]
     },
     "execution_count": 23,
     "metadata": {},
     "output_type": "execute_result"
    },
    {
     "data": {
      "image/png": "[encoded data removed]",
      "text/plain": [
       "<Figure size 432x288 with 1 Axes>"
      ]
     },
     "metadata": {
      "needs_background": "light"
     },
     "output_type": "display_data"
    }
   ],
   "source": [
    "summer.plot(y=['Apparent Temperature (C)' ,'Temperature (C)'])"
   ]
  },
  {
   "cell_type": "code",
   "execution_count": 24,
   "id": "8dfffefe",
   "metadata": {
    "execution": {
     "iopub.execute_input": "2022-06-04T06:43:08.973163Z",
     "iopub.status.busy": "2022-06-04T06:43:08.972675Z",
     "iopub.status.idle": "2022-06-04T06:43:09.270427Z",
     "shell.execute_reply": "2022-06-04T06:43:09.269106Z"
    },
    "papermill": {
     "duration": 0.318207,
     "end_time": "2022-06-04T06:43:09.272869",
     "exception": false,
     "start_time": "2022-06-04T06:43:08.954662",
     "status": "completed"
    },
    "tags": []
   },
   "outputs": [
    {
     "data": {
      "text/plain": [
       "<matplotlib.legend.Legend at 0x7f5d174d5190>"
      ]
     },
     "execution_count": 24,
     "metadata": {},
     "output_type": "execute_result"
    },
    {
     "data": {
      "image/png": "[encoded data removed]",
      "text/plain": [
       "<Figure size 432x288 with 1 Axes>"
      ]
     },
     "metadata": {
      "needs_background": "light"
     },
     "output_type": "display_data"
    }
   ],
   "source": [
    "plt.plot(data2['Apparent Temperature (C)'],color ='red')\n",
    "plt.legend('apparent_temp.')\n",
    "plt.plot(data2['Temperature (C)'],color ='blue')\n",
    "plt.legend('temperature')"
   ]
  },
  {
   "cell_type": "code",
   "execution_count": 25,
   "id": "cbaba049",
   "metadata": {
    "execution": {
     "iopub.execute_input": "2022-06-04T06:43:09.309746Z",
     "iopub.status.busy": "2022-06-04T06:43:09.309260Z",
     "iopub.status.idle": "2022-06-04T06:43:09.694872Z",
     "shell.execute_reply": "2022-06-04T06:43:09.693640Z"
    },
    "papermill": {
     "duration": 0.407387,
     "end_time": "2022-06-04T06:43:09.697359",
     "exception": false,
     "start_time": "2022-06-04T06:43:09.289972",
     "status": "completed"
    },
    "tags": []
   },
   "outputs": [
    {
     "data": {
      "text/plain": [
       "<AxesSubplot:>"
      ]
     },
     "execution_count": 25,
     "metadata": {},
     "output_type": "execute_result"
    },
    {
     "data": {
      "image/png": "[encoded data removed]",
      "text/plain": [
       "<Figure size 432x288 with 2 Axes>"
      ]
     },
     "metadata": {
      "needs_background": "light"
     },
     "output_type": "display_data"
    }
   ],
   "source": [
    "data2.corr()\n",
    "sns.heatmap(data2.corr())"
   ]
  },
  {
   "cell_type": "code",
   "execution_count": 26,
   "id": "8e0609cd",
   "metadata": {
    "execution": {
     "iopub.execute_input": "2022-06-04T06:43:09.735597Z",
     "iopub.status.busy": "2022-06-04T06:43:09.734193Z",
     "iopub.status.idle": "2022-06-04T06:43:09.741301Z",
     "shell.execute_reply": "2022-06-04T06:43:09.740176Z"
    },
    "papermill": {
     "duration": 0.029164,
     "end_time": "2022-06-04T06:43:09.743707",
     "exception": false,
     "start_time": "2022-06-04T06:43:09.714543",
     "status": "completed"
    },
    "tags": []
   },
   "outputs": [],
   "source": [
    "y = data2['Apparent Temperature (C)']\n",
    "x= data2.drop('Apparent Temperature (C)',axis =1)"
   ]
  },
  {
   "cell_type": "code",
   "execution_count": 27,
   "id": "1ef48a19",
   "metadata": {
    "execution": {
     "iopub.execute_input": "2022-06-04T06:43:09.779528Z",
     "iopub.status.busy": "2022-06-04T06:43:09.779089Z",
     "iopub.status.idle": "2022-06-04T06:43:09.785225Z",
     "shell.execute_reply": "2022-06-04T06:43:09.784341Z"
    },
    "papermill": {
     "duration": 0.027007,
     "end_time": "2022-06-04T06:43:09.787615",
     "exception": false,
     "start_time": "2022-06-04T06:43:09.760608",
     "status": "completed"
    },
    "tags": []
   },
   "outputs": [
    {
     "data": {
      "text/plain": [
       "((366, 6), (366,))"
      ]
     },
     "execution_count": 27,
     "metadata": {},
     "output_type": "execute_result"
    }
   ],
   "source": [
    "x.shape, y.shape"
   ]
  },
  {
   "cell_type": "code",
   "execution_count": 28,
   "id": "8e7024ef",
   "metadata": {
    "execution": {
     "iopub.execute_input": "2022-06-04T06:43:09.824558Z",
     "iopub.status.busy": "2022-06-04T06:43:09.823858Z",
     "iopub.status.idle": "2022-06-04T06:43:10.065073Z",
     "shell.execute_reply": "2022-06-04T06:43:10.063953Z"
    },
    "papermill": {
     "duration": 0.263062,
     "end_time": "2022-06-04T06:43:10.067744",
     "exception": false,
     "start_time": "2022-06-04T06:43:09.804682",
     "status": "completed"
    },
    "tags": []
   },
   "outputs": [],
   "source": [
    "from sklearn.model_selection import train_test_split , cross_val_score"
   ]
  },
  {
   "cell_type": "code",
   "execution_count": 29,
   "id": "79bd0591",
   "metadata": {
    "execution": {
     "iopub.execute_input": "2022-06-04T06:43:10.107622Z",
     "iopub.status.busy": "2022-06-04T06:43:10.106037Z",
     "iopub.status.idle": "2022-06-04T06:43:10.112313Z",
     "shell.execute_reply": "2022-06-04T06:43:10.111365Z"
    },
    "papermill": {
     "duration": 0.02934,
     "end_time": "2022-06-04T06:43:10.114271",
     "exception": false,
     "start_time": "2022-06-04T06:43:10.084931",
     "status": "completed"
    },
    "tags": []
   },
   "outputs": [],
   "source": [
    "from sklearn.metrics import accuracy_score,mean_squared_error"
   ]
  },
  {
   "cell_type": "code",
   "execution_count": 30,
   "id": "3459021f",
   "metadata": {
    "execution": {
     "iopub.execute_input": "2022-06-04T06:43:10.154346Z",
     "iopub.status.busy": "2022-06-04T06:43:10.153264Z",
     "iopub.status.idle": "2022-06-04T06:43:10.162013Z",
     "shell.execute_reply": "2022-06-04T06:43:10.160790Z"
    },
    "papermill": {
     "duration": 0.032014,
     "end_time": "2022-06-04T06:43:10.164683",
     "exception": false,
     "start_time": "2022-06-04T06:43:10.132669",
     "status": "completed"
    },
    "tags": []
   },
   "outputs": [],
   "source": [
    "def model_train(model,x,y):\n",
    "    \n",
    "    x_train,x_test,y_train,y_test = train_test_split(x,y)\n",
    "    model.fit(x_train,y_train)\n",
    "    predict = model.predict(x_test)\n",
    "    score = model.score(x_test,y_test)\n",
    "    print('model score ' , score)\n",
    "    \n",
    "    val_score = cross_val_score(model,x,y,cv=5)\n",
    "    print('cross val score' ,np.mean(val_score))\n",
    "    \n",
    "    error = mean_squared_error(y_test,predict)\n",
    "    print('error = ',error)\n",
    "    dataframe = pd.DataFrame({'actual': y_test, 'predicted': predict})\n",
    "    print(dataframe)\n",
    "    "
   ]
  },
  {
   "cell_type": "code",
   "execution_count": 31,
   "id": "f6251713",
   "metadata": {
    "execution": {
     "iopub.execute_input": "2022-06-04T06:43:10.202692Z",
     "iopub.status.busy": "2022-06-04T06:43:10.202193Z",
     "iopub.status.idle": "2022-06-04T06:43:10.359499Z",
     "shell.execute_reply": "2022-06-04T06:43:10.357983Z"
    },
    "papermill": {
     "duration": 0.18133,
     "end_time": "2022-06-04T06:43:10.363907",
     "exception": false,
     "start_time": "2022-06-04T06:43:10.182577",
     "status": "completed"
    },
    "tags": []
   },
   "outputs": [
    {
     "name": "stdout",
     "output_type": "stream",
     "text": [
      "model score  1.0\n",
      "cross val score 1.0\n",
      "error =  2.1592555130900174e-26\n",
      "                              actual  predicted\n",
      "Formatted Date                                 \n",
      "2006-04-04 00:00:00+00:00   7.168519   7.168519\n",
      "2006-12-29 00:00:00+00:00  -3.975463  -3.975463\n",
      "2006-01-09 00:00:00+00:00  -2.840046  -2.840046\n",
      "2006-04-19 00:00:00+00:00  13.880324  13.880324\n",
      "2006-02-18 00:00:00+00:00   3.554398   3.554398\n",
      "...                              ...        ...\n",
      "2006-07-15 00:00:00+00:00  22.950000  22.950000\n",
      "2006-04-12 00:00:00+00:00   5.869213   5.869213\n",
      "2006-09-22 00:00:00+00:00   8.900450   8.900450\n",
      "2006-11-01 00:00:00+00:00   8.900450   8.900450\n",
      "2006-01-14 00:00:00+00:00  -3.412037  -3.412037\n",
      "\n",
      "[92 rows x 2 columns]\n"
     ]
    }
   ],
   "source": [
    "from sklearn.linear_model import LinearRegression\n",
    "model = LinearRegression()\n",
    "model_train(model,x,y)"
   ]
  },
  {
   "cell_type": "code",
   "execution_count": 32,
   "id": "0eae82a5",
   "metadata": {
    "execution": {
     "iopub.execute_input": "2022-06-04T06:43:10.402437Z",
     "iopub.status.busy": "2022-06-04T06:43:10.401782Z",
     "iopub.status.idle": "2022-06-04T06:43:12.019525Z",
     "shell.execute_reply": "2022-06-04T06:43:12.018263Z"
    },
    "papermill": {
     "duration": 1.639254,
     "end_time": "2022-06-04T06:43:12.022148",
     "exception": false,
     "start_time": "2022-06-04T06:43:10.382894",
     "status": "completed"
    },
    "tags": []
   },
   "outputs": [
    {
     "name": "stdout",
     "output_type": "stream",
     "text": [
      "model score  0.9970820910110922\n",
      "cross val score 0.9135690905083834\n",
      "error =  0.23650877103007706\n",
      "                              actual  predicted\n",
      "Formatted Date                                 \n",
      "2006-04-23 00:00:00+00:00  15.818519  15.734120\n",
      "2006-02-23 00:00:00+00:00  -0.474074  -0.711866\n",
      "2006-06-05 00:00:00+00:00  11.823148  11.892329\n",
      "2006-04-02 00:00:00+00:00  12.157176  12.259422\n",
      "2006-08-05 00:00:00+00:00  16.921296  17.139030\n",
      "...                              ...        ...\n",
      "2006-04-04 00:00:00+00:00   7.168519   7.400261\n",
      "2006-07-10 00:00:00+00:00  23.834028  23.798025\n",
      "2006-07-16 00:00:00+00:00  20.344676  20.016586\n",
      "2006-06-11 00:00:00+00:00  14.379398  14.346954\n",
      "2006-10-20 00:00:00+00:00   8.900450   8.900450\n",
      "\n",
      "[92 rows x 2 columns]\n"
     ]
    }
   ],
   "source": [
    "from sklearn.ensemble import RandomForestRegressor\n",
    "model = RandomForestRegressor()\n",
    "model_train(model,x,y)"
   ]
  },
  {
   "cell_type": "code",
   "execution_count": 33,
   "id": "93f99885",
   "metadata": {
    "execution": {
     "iopub.execute_input": "2022-06-04T06:43:12.062562Z",
     "iopub.status.busy": "2022-06-04T06:43:12.062146Z",
     "iopub.status.idle": "2022-06-04T06:43:12.117058Z",
     "shell.execute_reply": "2022-06-04T06:43:12.115493Z"
    },
    "papermill": {
     "duration": 0.077456,
     "end_time": "2022-06-04T06:43:12.120265",
     "exception": false,
     "start_time": "2022-06-04T06:43:12.042809",
     "status": "completed"
    },
    "tags": []
   },
   "outputs": [
    {
     "name": "stdout",
     "output_type": "stream",
     "text": [
      "model score  0.9937106502491273\n",
      "cross val score 0.8862172369851606\n",
      "error =  0.5368465749630721\n",
      "                              actual  predicted\n",
      "Formatted Date                                 \n",
      "2006-12-14 00:00:00+00:00  -4.011806  -3.997222\n",
      "2006-07-28 00:00:00+00:00  27.148148  28.388657\n",
      "2006-06-14 00:00:00+00:00  17.457176  17.490741\n",
      "2006-09-17 00:00:00+00:00   8.900450   8.900450\n",
      "2006-08-06 00:00:00+00:00  18.567130  18.607407\n",
      "...                              ...        ...\n",
      "2006-04-06 00:00:00+00:00   3.659491   0.933102\n",
      "2006-04-02 00:00:00+00:00  12.157176  12.379630\n",
      "2006-10-20 00:00:00+00:00   8.900450   8.900450\n",
      "2006-10-02 00:00:00+00:00   8.900450   8.900450\n",
      "2006-06-23 00:00:00+00:00  22.449306  22.044676\n",
      "\n",
      "[92 rows x 2 columns]\n"
     ]
    }
   ],
   "source": [
    "from sklearn.tree import DecisionTreeRegressor\n",
    "model = DecisionTreeRegressor()\n",
    "\n",
    "model_train(model,x,y)"
   ]
  },
  {
   "cell_type": "code",
   "execution_count": 34,
   "id": "761259d4",
   "metadata": {
    "execution": {
     "iopub.execute_input": "2022-06-04T06:43:12.159096Z",
     "iopub.status.busy": "2022-06-04T06:43:12.158538Z",
     "iopub.status.idle": "2022-06-04T06:43:14.514676Z",
     "shell.execute_reply": "2022-06-04T06:43:14.513376Z"
    },
    "papermill": {
     "duration": 2.379866,
     "end_time": "2022-06-04T06:43:14.518182",
     "exception": false,
     "start_time": "2022-06-04T06:43:12.138316",
     "status": "completed"
    },
    "tags": []
   },
   "outputs": [
    {
     "name": "stdout",
     "output_type": "stream",
     "text": [
      "model score  0.9973356003220722\n",
      "cross val score 0.937610201215227\n",
      "error =  0.26116983940580507\n",
      "                              actual  predicted\n",
      "Formatted Date                                 \n",
      "2006-07-09 00:00:00+00:00  22.044676  21.909281\n",
      "2006-07-10 00:00:00+00:00  23.834028  24.013474\n",
      "2006-01-08 00:00:00+00:00  -2.805093  -2.987448\n",
      "2006-07-12 00:00:00+00:00  24.095139  24.179600\n",
      "2006-07-27 00:00:00+00:00  26.854167  26.590902\n",
      "...                              ...        ...\n",
      "2006-03-31 00:00:00+00:00   9.617824   9.306301\n",
      "2006-03-10 00:00:00+00:00   2.109722   2.477387\n",
      "2006-11-04 00:00:00+00:00   8.900450   8.900398\n",
      "2006-11-20 00:00:00+00:00   8.900450   8.900398\n",
      "2006-08-09 00:00:00+00:00  19.659028  19.937241\n",
      "\n",
      "[92 rows x 2 columns]\n"
     ]
    }
   ],
   "source": [
    "from xgboost import XGBRegressor\n",
    "\n",
    "model = XGBRegressor()\n",
    "\n",
    "model_train(model,x,y)"
   ]
  },
  {
   "cell_type": "code",
   "execution_count": 35,
   "id": "48795265",
   "metadata": {
    "execution": {
     "iopub.execute_input": "2022-06-04T06:43:14.561221Z",
     "iopub.status.busy": "2022-06-04T06:43:14.560674Z",
     "iopub.status.idle": "2022-06-04T06:43:24.252458Z",
     "shell.execute_reply": "2022-06-04T06:43:24.251184Z"
    },
    "papermill": {
     "duration": 9.717296,
     "end_time": "2022-06-04T06:43:24.255742",
     "exception": false,
     "start_time": "2022-06-04T06:43:14.538446",
     "status": "completed"
    },
    "tags": []
   },
   "outputs": [
    {
     "name": "stdout",
     "output_type": "stream",
     "text": [
      "Fitting 5 folds for each of 24 candidates, totalling 120 fits\n",
      "Best parameters: {'colsample_bytree': 0.7, 'learning_rate': 0.05, 'max_depth': 6, 'n_estimators': 20}\n",
      "Lowest RMSE:  5.988123592915676\n"
     ]
    }
   ],
   "source": [
    "#for xgboost only\n",
    "\n",
    "from sklearn.model_selection import GridSearchCV\n",
    "\n",
    "params = { 'max_depth': [3,6,10],\n",
    "           'learning_rate': [0.01, 0.05],\n",
    "           'n_estimators': [10,20],\n",
    "           'colsample_bytree': [0.3, 0.7]}\n",
    "\n",
    "clf = GridSearchCV(estimator=model, \n",
    "                   param_grid=params,\n",
    "                   scoring='neg_mean_squared_error',\n",
    "                   verbose=1)\n",
    "clf.fit(x, y)\n",
    "print(\"Best parameters:\", clf.best_params_)\n",
    "print(\"Lowest RMSE: \", (-clf.best_score_)**(1/2.0))"
   ]
  }
 ],
 "metadata": {
  "kernelspec": {
   "display_name": "Python 3",
   "language": "python",
   "name": "python3"
  },
  "language_info": {
   "codemirror_mode": {
    "name": "ipython",
    "version": 3
   },
   "file_extension": ".py",
   "mimetype": "text/x-python",
   "name": "python",
   "nbconvert_exporter": "python",
   "pygments_lexer": "ipython3",
   "version": "3.7.12"
  },
  "papermill": {
   "default_parameters": {},
   "duration": 31.424866,
   "end_time": "2022-06-04T06:43:25.199649",
   "environment_variables": {},
   "exception": null,
   "input_path": "__notebook__.ipynb",
   "output_path": "__notebook__.ipynb",
   "parameters": {},
   "start_time": "2022-06-04T06:42:53.774783",
   "version": "2.3.4"
  }
 },
 "nbformat": 4,
 "nbformat_minor": 5
}
